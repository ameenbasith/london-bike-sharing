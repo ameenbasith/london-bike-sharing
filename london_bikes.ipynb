{
 "cells": [
  {
   "cell_type": "markdown",
   "source": [
    "# London Bike Rides\n",
    "Utilizing the kaggle data set to do some data analysis!"
   ],
   "metadata": {
    "collapsed": false
   },
   "id": "63d55935571eb74f"
  },
  {
   "cell_type": "code",
   "execution_count": 3,
   "outputs": [
    {
     "name": "stdout",
     "output_type": "stream",
     "text": [
      "Requirement already satisfied: kaggle in /Users/ameen/opt/anaconda3/lib/python3.9/site-packages (1.5.16)\r\n",
      "Requirement already satisfied: six>=1.10 in /Users/ameen/opt/anaconda3/lib/python3.9/site-packages (from kaggle) (1.16.0)\r\n",
      "Requirement already satisfied: certifi in /Users/ameen/opt/anaconda3/lib/python3.9/site-packages (from kaggle) (2023.7.22)\r\n",
      "Requirement already satisfied: python-dateutil in /Users/ameen/opt/anaconda3/lib/python3.9/site-packages (from kaggle) (2.8.2)\r\n",
      "Requirement already satisfied: requests in /Users/ameen/opt/anaconda3/lib/python3.9/site-packages (from kaggle) (2.27.1)\r\n",
      "Requirement already satisfied: tqdm in /Users/ameen/opt/anaconda3/lib/python3.9/site-packages (from kaggle) (4.64.0)\r\n",
      "Requirement already satisfied: python-slugify in /Users/ameen/opt/anaconda3/lib/python3.9/site-packages (from kaggle) (5.0.2)\r\n",
      "Requirement already satisfied: urllib3 in /Users/ameen/opt/anaconda3/lib/python3.9/site-packages (from kaggle) (1.26.9)\r\n",
      "Requirement already satisfied: bleach in /Users/ameen/opt/anaconda3/lib/python3.9/site-packages (from kaggle) (4.1.0)\r\n",
      "Requirement already satisfied: packaging in /Users/ameen/opt/anaconda3/lib/python3.9/site-packages (from bleach->kaggle) (21.3)\r\n",
      "Requirement already satisfied: webencodings in /Users/ameen/opt/anaconda3/lib/python3.9/site-packages (from bleach->kaggle) (0.5.1)\r\n",
      "Requirement already satisfied: text-unidecode>=1.3 in /Users/ameen/opt/anaconda3/lib/python3.9/site-packages (from python-slugify->kaggle) (1.3)\r\n",
      "Requirement already satisfied: charset-normalizer~=2.0.0 in /Users/ameen/opt/anaconda3/lib/python3.9/site-packages (from requests->kaggle) (2.0.4)\r\n",
      "Requirement already satisfied: idna<4,>=2.5 in /Users/ameen/opt/anaconda3/lib/python3.9/site-packages (from requests->kaggle) (3.3)\r\n",
      "Requirement already satisfied: pyparsing!=3.0.5,>=2.0.2 in /Users/ameen/opt/anaconda3/lib/python3.9/site-packages (from packaging->bleach->kaggle) (3.0.4)\r\n"
     ]
    }
   ],
   "source": [
    "# !pip install kaggle"
   ],
   "metadata": {
    "collapsed": false,
    "ExecuteTime": {
     "end_time": "2023-09-26T01:06:20.797583Z",
     "start_time": "2023-09-26T01:06:18.552082Z"
    }
   },
   "id": "bfb3ea6bf40660b9"
  },
  {
   "cell_type": "code",
   "execution_count": 6,
   "outputs": [],
   "source": [
    "import pandas as pd\n",
    "import zipfile\n",
    "import kaggle"
   ],
   "metadata": {
    "collapsed": false,
    "ExecuteTime": {
     "end_time": "2023-09-26T01:11:50.643558Z",
     "start_time": "2023-09-26T01:11:50.627827Z"
    }
   },
   "id": "9b4dc4ab932d0bde"
  },
  {
   "cell_type": "code",
   "execution_count": null,
   "outputs": [],
   "source": [
    "# !kaggle datasets download -d hmavrodiev/london-bike-sharing-dataset"
   ],
   "metadata": {
    "collapsed": false
   },
   "id": "b4836ab294b268e5"
  },
  {
   "cell_type": "code",
   "execution_count": 7,
   "outputs": [],
   "source": [
    "zipfile_name = 'london-bike-sharing-dataset.zip'\n",
    "with zipfile.ZipFile(zipfile_name, 'r') as file:\n",
    "    file.extractall()"
   ],
   "metadata": {
    "collapsed": false,
    "ExecuteTime": {
     "end_time": "2023-09-26T01:21:46.120526Z",
     "start_time": "2023-09-26T01:21:46.103431Z"
    }
   },
   "id": "35859d967b403e0"
  },
  {
   "cell_type": "code",
   "execution_count": 10,
   "outputs": [],
   "source": [
    "bikes = pd.read_csv(\"london_merged.csv\")"
   ],
   "metadata": {
    "collapsed": false,
    "ExecuteTime": {
     "end_time": "2023-09-26T01:22:50.903871Z",
     "start_time": "2023-09-26T01:22:50.867754Z"
    }
   },
   "id": "753b1df21d221833"
  },
  {
   "cell_type": "code",
   "execution_count": 12,
   "outputs": [
    {
     "name": "stdout",
     "output_type": "stream",
     "text": [
      "<class 'pandas.core.frame.DataFrame'>\n",
      "RangeIndex: 17414 entries, 0 to 17413\n",
      "Data columns (total 10 columns):\n",
      " #   Column        Non-Null Count  Dtype  \n",
      "---  ------        --------------  -----  \n",
      " 0   timestamp     17414 non-null  object \n",
      " 1   cnt           17414 non-null  int64  \n",
      " 2   t1            17414 non-null  float64\n",
      " 3   t2            17414 non-null  float64\n",
      " 4   hum           17414 non-null  float64\n",
      " 5   wind_speed    17414 non-null  float64\n",
      " 6   weather_code  17414 non-null  float64\n",
      " 7   is_holiday    17414 non-null  float64\n",
      " 8   is_weekend    17414 non-null  float64\n",
      " 9   season        17414 non-null  float64\n",
      "dtypes: float64(8), int64(1), object(1)\n",
      "memory usage: 1.3+ MB\n"
     ]
    }
   ],
   "source": [
    "bikes.info()"
   ],
   "metadata": {
    "collapsed": false,
    "ExecuteTime": {
     "end_time": "2023-09-26T01:23:02.664858Z",
     "start_time": "2023-09-26T01:23:02.640391Z"
    }
   },
   "id": "7c4b71a026d674b2"
  },
  {
   "cell_type": "code",
   "execution_count": 13,
   "outputs": [
    {
     "data": {
      "text/plain": "(17414, 10)"
     },
     "execution_count": 13,
     "metadata": {},
     "output_type": "execute_result"
    }
   ],
   "source": [
    "bikes.shape"
   ],
   "metadata": {
    "collapsed": false,
    "ExecuteTime": {
     "end_time": "2023-09-26T01:23:17.306433Z",
     "start_time": "2023-09-26T01:23:17.297247Z"
    }
   },
   "id": "2db3ccf185773c46"
  },
  {
   "cell_type": "code",
   "execution_count": 14,
   "outputs": [
    {
     "data": {
      "text/plain": "                 timestamp   cnt   t1   t2    hum  wind_speed  weather_code  \\\n0      2015-01-04 00:00:00   182  3.0  2.0   93.0         6.0           3.0   \n1      2015-01-04 01:00:00   138  3.0  2.5   93.0         5.0           1.0   \n2      2015-01-04 02:00:00   134  2.5  2.5   96.5         0.0           1.0   \n3      2015-01-04 03:00:00    72  2.0  2.0  100.0         0.0           1.0   \n4      2015-01-04 04:00:00    47  2.0  0.0   93.0         6.5           1.0   \n...                    ...   ...  ...  ...    ...         ...           ...   \n17409  2017-01-03 19:00:00  1042  5.0  1.0   81.0        19.0           3.0   \n17410  2017-01-03 20:00:00   541  5.0  1.0   81.0        21.0           4.0   \n17411  2017-01-03 21:00:00   337  5.5  1.5   78.5        24.0           4.0   \n17412  2017-01-03 22:00:00   224  5.5  1.5   76.0        23.0           4.0   \n17413  2017-01-03 23:00:00   139  5.0  1.0   76.0        22.0           2.0   \n\n       is_holiday  is_weekend  season  \n0             0.0         1.0     3.0  \n1             0.0         1.0     3.0  \n2             0.0         1.0     3.0  \n3             0.0         1.0     3.0  \n4             0.0         1.0     3.0  \n...           ...         ...     ...  \n17409         0.0         0.0     3.0  \n17410         0.0         0.0     3.0  \n17411         0.0         0.0     3.0  \n17412         0.0         0.0     3.0  \n17413         0.0         0.0     3.0  \n\n[17414 rows x 10 columns]",
      "text/html": "<div>\n<style scoped>\n    .dataframe tbody tr th:only-of-type {\n        vertical-align: middle;\n    }\n\n    .dataframe tbody tr th {\n        vertical-align: top;\n    }\n\n    .dataframe thead th {\n        text-align: right;\n    }\n</style>\n<table border=\"1\" class=\"dataframe\">\n  <thead>\n    <tr style=\"text-align: right;\">\n      <th></th>\n      <th>timestamp</th>\n      <th>cnt</th>\n      <th>t1</th>\n      <th>t2</th>\n      <th>hum</th>\n      <th>wind_speed</th>\n      <th>weather_code</th>\n      <th>is_holiday</th>\n      <th>is_weekend</th>\n      <th>season</th>\n    </tr>\n  </thead>\n  <tbody>\n    <tr>\n      <th>0</th>\n      <td>2015-01-04 00:00:00</td>\n      <td>182</td>\n      <td>3.0</td>\n      <td>2.0</td>\n      <td>93.0</td>\n      <td>6.0</td>\n      <td>3.0</td>\n      <td>0.0</td>\n      <td>1.0</td>\n      <td>3.0</td>\n    </tr>\n    <tr>\n      <th>1</th>\n      <td>2015-01-04 01:00:00</td>\n      <td>138</td>\n      <td>3.0</td>\n      <td>2.5</td>\n      <td>93.0</td>\n      <td>5.0</td>\n      <td>1.0</td>\n      <td>0.0</td>\n      <td>1.0</td>\n      <td>3.0</td>\n    </tr>\n    <tr>\n      <th>2</th>\n      <td>2015-01-04 02:00:00</td>\n      <td>134</td>\n      <td>2.5</td>\n      <td>2.5</td>\n      <td>96.5</td>\n      <td>0.0</td>\n      <td>1.0</td>\n      <td>0.0</td>\n      <td>1.0</td>\n      <td>3.0</td>\n    </tr>\n    <tr>\n      <th>3</th>\n      <td>2015-01-04 03:00:00</td>\n      <td>72</td>\n      <td>2.0</td>\n      <td>2.0</td>\n      <td>100.0</td>\n      <td>0.0</td>\n      <td>1.0</td>\n      <td>0.0</td>\n      <td>1.0</td>\n      <td>3.0</td>\n    </tr>\n    <tr>\n      <th>4</th>\n      <td>2015-01-04 04:00:00</td>\n      <td>47</td>\n      <td>2.0</td>\n      <td>0.0</td>\n      <td>93.0</td>\n      <td>6.5</td>\n      <td>1.0</td>\n      <td>0.0</td>\n      <td>1.0</td>\n      <td>3.0</td>\n    </tr>\n    <tr>\n      <th>...</th>\n      <td>...</td>\n      <td>...</td>\n      <td>...</td>\n      <td>...</td>\n      <td>...</td>\n      <td>...</td>\n      <td>...</td>\n      <td>...</td>\n      <td>...</td>\n      <td>...</td>\n    </tr>\n    <tr>\n      <th>17409</th>\n      <td>2017-01-03 19:00:00</td>\n      <td>1042</td>\n      <td>5.0</td>\n      <td>1.0</td>\n      <td>81.0</td>\n      <td>19.0</td>\n      <td>3.0</td>\n      <td>0.0</td>\n      <td>0.0</td>\n      <td>3.0</td>\n    </tr>\n    <tr>\n      <th>17410</th>\n      <td>2017-01-03 20:00:00</td>\n      <td>541</td>\n      <td>5.0</td>\n      <td>1.0</td>\n      <td>81.0</td>\n      <td>21.0</td>\n      <td>4.0</td>\n      <td>0.0</td>\n      <td>0.0</td>\n      <td>3.0</td>\n    </tr>\n    <tr>\n      <th>17411</th>\n      <td>2017-01-03 21:00:00</td>\n      <td>337</td>\n      <td>5.5</td>\n      <td>1.5</td>\n      <td>78.5</td>\n      <td>24.0</td>\n      <td>4.0</td>\n      <td>0.0</td>\n      <td>0.0</td>\n      <td>3.0</td>\n    </tr>\n    <tr>\n      <th>17412</th>\n      <td>2017-01-03 22:00:00</td>\n      <td>224</td>\n      <td>5.5</td>\n      <td>1.5</td>\n      <td>76.0</td>\n      <td>23.0</td>\n      <td>4.0</td>\n      <td>0.0</td>\n      <td>0.0</td>\n      <td>3.0</td>\n    </tr>\n    <tr>\n      <th>17413</th>\n      <td>2017-01-03 23:00:00</td>\n      <td>139</td>\n      <td>5.0</td>\n      <td>1.0</td>\n      <td>76.0</td>\n      <td>22.0</td>\n      <td>2.0</td>\n      <td>0.0</td>\n      <td>0.0</td>\n      <td>3.0</td>\n    </tr>\n  </tbody>\n</table>\n<p>17414 rows × 10 columns</p>\n</div>"
     },
     "execution_count": 14,
     "metadata": {},
     "output_type": "execute_result"
    }
   ],
   "source": [
    "bikes"
   ],
   "metadata": {
    "collapsed": false,
    "ExecuteTime": {
     "end_time": "2023-09-26T01:23:24.305909Z",
     "start_time": "2023-09-26T01:23:24.279605Z"
    }
   },
   "id": "9662230ec43fee2b"
  },
  {
   "cell_type": "code",
   "execution_count": 15,
   "outputs": [
    {
     "data": {
      "text/plain": "1.0     6150\n2.0     4034\n3.0     3551\n7.0     2141\n4.0     1464\n26.0      60\n10.0      14\nName: weather_code, dtype: int64"
     },
     "execution_count": 15,
     "metadata": {},
     "output_type": "execute_result"
    }
   ],
   "source": [
    "bikes.weather_code.value_counts()"
   ],
   "metadata": {
    "collapsed": false,
    "ExecuteTime": {
     "end_time": "2023-09-26T01:23:52.670878Z",
     "start_time": "2023-09-26T01:23:52.656898Z"
    }
   },
   "id": "f7363f9f1ce01dca"
  },
  {
   "cell_type": "code",
   "execution_count": 19,
   "outputs": [
    {
     "data": {
      "text/plain": "0.0    4394\n1.0    4387\n3.0    4330\n2.0    4303\nName: season, dtype: int64"
     },
     "execution_count": 19,
     "metadata": {},
     "output_type": "execute_result"
    }
   ],
   "source": [
    "bikes.season.value_counts()"
   ],
   "metadata": {
    "collapsed": false,
    "ExecuteTime": {
     "end_time": "2023-09-26T01:47:45.488603Z",
     "start_time": "2023-09-26T01:47:45.482453Z"
    }
   },
   "id": "736b1d9d0d635467"
  },
  {
   "cell_type": "code",
   "execution_count": 20,
   "outputs": [],
   "source": [
    "new_cols_dict = {\n",
    "    'timestamp' : 'time',\n",
    "    'cnt' : 'count',\n",
    "    't1' : 'temp_real_C',\n",
    "    't2' : 'temp_feels_like_C',\n",
    "    'hum' : 'humidity_percent',\n",
    "    'wind_speed' : 'wind_speed_kph',\n",
    "    'weather_code' : 'weather',\n",
    "    'is_holiday' : 'is_holiday',\n",
    "    'is_weekend' : 'is_weekend',\n",
    "    'season' : 'season'\n",
    "}\n",
    "\n",
    "bikes.rename(new_cols_dict, axis=1, inplace=True)"
   ],
   "metadata": {
    "collapsed": false,
    "ExecuteTime": {
     "end_time": "2023-09-26T02:10:33.455008Z",
     "start_time": "2023-09-26T02:10:33.449372Z"
    }
   },
   "id": "ca57e433f342354"
  },
  {
   "cell_type": "code",
   "execution_count": 21,
   "outputs": [],
   "source": [
    "bikes.humidity_percent = bikes.humidity_percent / 100"
   ],
   "metadata": {
    "collapsed": false,
    "ExecuteTime": {
     "end_time": "2023-09-26T02:11:04.018248Z",
     "start_time": "2023-09-26T02:11:03.997252Z"
    }
   },
   "id": "4e1ffa94da8d171d"
  },
  {
   "cell_type": "code",
   "execution_count": 22,
   "outputs": [],
   "source": [
    "season_dict = {\n",
    "    '0.0' : 'spring',\n",
    "    '1.0' : 'summer',\n",
    "    '2.0' : 'autumn',\n",
    "    '3.0' : 'winter'\n",
    "}\n",
    "\n",
    "weather_dict = {\n",
    "    '1.0' : 'Clear',\n",
    "    '2.0' : 'Scattered Clouds',\n",
    "    '3.0' : 'Broken Clouds',\n",
    "    '4.0' : 'Cloudy',\n",
    "    '7.0' : 'Rain',\n",
    "    '10.0' : 'Rain with thunderstorm',\n",
    "    '26.0' : 'Snowfall'\n",
    "}\n",
    "\n",
    "bikes.season = bikes.season.astype('str')\n",
    "bikes.season = bikes.season.map(season_dict)\n",
    "\n",
    "bikes.weather = bikes.weather.astype('str')\n",
    "bikes.weather = bikes.weather.map(weather_dict)"
   ],
   "metadata": {
    "collapsed": false,
    "ExecuteTime": {
     "end_time": "2023-09-26T02:27:06.796130Z",
     "start_time": "2023-09-26T02:27:06.771585Z"
    }
   },
   "id": "624f2ec06e139a44"
  },
  {
   "cell_type": "code",
   "execution_count": 23,
   "outputs": [
    {
     "data": {
      "text/plain": "                  time  count  temp_real_C  temp_feels_like_C  \\\n0  2015-01-04 00:00:00    182          3.0                2.0   \n1  2015-01-04 01:00:00    138          3.0                2.5   \n2  2015-01-04 02:00:00    134          2.5                2.5   \n3  2015-01-04 03:00:00     72          2.0                2.0   \n4  2015-01-04 04:00:00     47          2.0                0.0   \n\n   humidity_percent  wind_speed_kph        weather  is_holiday  is_weekend  \\\n0             0.930             6.0  Broken Clouds         0.0         1.0   \n1             0.930             5.0          Clear         0.0         1.0   \n2             0.965             0.0          Clear         0.0         1.0   \n3             1.000             0.0          Clear         0.0         1.0   \n4             0.930             6.5          Clear         0.0         1.0   \n\n   season  \n0  winter  \n1  winter  \n2  winter  \n3  winter  \n4  winter  ",
      "text/html": "<div>\n<style scoped>\n    .dataframe tbody tr th:only-of-type {\n        vertical-align: middle;\n    }\n\n    .dataframe tbody tr th {\n        vertical-align: top;\n    }\n\n    .dataframe thead th {\n        text-align: right;\n    }\n</style>\n<table border=\"1\" class=\"dataframe\">\n  <thead>\n    <tr style=\"text-align: right;\">\n      <th></th>\n      <th>time</th>\n      <th>count</th>\n      <th>temp_real_C</th>\n      <th>temp_feels_like_C</th>\n      <th>humidity_percent</th>\n      <th>wind_speed_kph</th>\n      <th>weather</th>\n      <th>is_holiday</th>\n      <th>is_weekend</th>\n      <th>season</th>\n    </tr>\n  </thead>\n  <tbody>\n    <tr>\n      <th>0</th>\n      <td>2015-01-04 00:00:00</td>\n      <td>182</td>\n      <td>3.0</td>\n      <td>2.0</td>\n      <td>0.930</td>\n      <td>6.0</td>\n      <td>Broken Clouds</td>\n      <td>0.0</td>\n      <td>1.0</td>\n      <td>winter</td>\n    </tr>\n    <tr>\n      <th>1</th>\n      <td>2015-01-04 01:00:00</td>\n      <td>138</td>\n      <td>3.0</td>\n      <td>2.5</td>\n      <td>0.930</td>\n      <td>5.0</td>\n      <td>Clear</td>\n      <td>0.0</td>\n      <td>1.0</td>\n      <td>winter</td>\n    </tr>\n    <tr>\n      <th>2</th>\n      <td>2015-01-04 02:00:00</td>\n      <td>134</td>\n      <td>2.5</td>\n      <td>2.5</td>\n      <td>0.965</td>\n      <td>0.0</td>\n      <td>Clear</td>\n      <td>0.0</td>\n      <td>1.0</td>\n      <td>winter</td>\n    </tr>\n    <tr>\n      <th>3</th>\n      <td>2015-01-04 03:00:00</td>\n      <td>72</td>\n      <td>2.0</td>\n      <td>2.0</td>\n      <td>1.000</td>\n      <td>0.0</td>\n      <td>Clear</td>\n      <td>0.0</td>\n      <td>1.0</td>\n      <td>winter</td>\n    </tr>\n    <tr>\n      <th>4</th>\n      <td>2015-01-04 04:00:00</td>\n      <td>47</td>\n      <td>2.0</td>\n      <td>0.0</td>\n      <td>0.930</td>\n      <td>6.5</td>\n      <td>Clear</td>\n      <td>0.0</td>\n      <td>1.0</td>\n      <td>winter</td>\n    </tr>\n  </tbody>\n</table>\n</div>"
     },
     "execution_count": 23,
     "metadata": {},
     "output_type": "execute_result"
    }
   ],
   "source": [
    "bikes.head()"
   ],
   "metadata": {
    "collapsed": false,
    "ExecuteTime": {
     "end_time": "2023-09-26T02:27:12.545416Z",
     "start_time": "2023-09-26T02:27:12.538880Z"
    }
   },
   "id": "d0dbd7e9dfeb5537"
  },
  {
   "cell_type": "code",
   "execution_count": 24,
   "outputs": [],
   "source": [
    "bikes.to_excel('london_bikes_final.xlsx', sheet_name='Data')"
   ],
   "metadata": {
    "collapsed": false,
    "ExecuteTime": {
     "end_time": "2023-09-26T02:28:00.093006Z",
     "start_time": "2023-09-26T02:27:58.222046Z"
    }
   },
   "id": "decf6e446d4a980a"
  },
  {
   "cell_type": "code",
   "execution_count": null,
   "outputs": [],
   "source": [],
   "metadata": {
    "collapsed": false
   },
   "id": "2ea4e48748645664"
  }
 ],
 "metadata": {
  "kernelspec": {
   "display_name": "Python 3",
   "language": "python",
   "name": "python3"
  },
  "language_info": {
   "codemirror_mode": {
    "name": "ipython",
    "version": 2
   },
   "file_extension": ".py",
   "mimetype": "text/x-python",
   "name": "python",
   "nbconvert_exporter": "python",
   "pygments_lexer": "ipython2",
   "version": "2.7.6"
  }
 },
 "nbformat": 4,
 "nbformat_minor": 5
}
